{
  "nbformat": 4,
  "nbformat_minor": 0,
  "metadata": {
    "colab": {
      "provenance": []
    },
    "kernelspec": {
      "name": "python3",
      "display_name": "Python 3"
    },
    "language_info": {
      "name": "python"
    }
  },
  "cells": [
    {
      "cell_type": "code",
      "execution_count": 34,
      "metadata": {
        "colab": {
          "base_uri": "https://localhost:8080/"
        },
        "id": "77RPilY4bAps",
        "outputId": "becc22a3-b282-4186-acc7-391bb1441156"
      },
      "outputs": [
        {
          "output_type": "stream",
          "name": "stdout",
          "text": [
            "Enter first number: 200\n",
            "Enter second number: 250\n",
            "Enter third number: 300\n",
            "The largest number is 300.0\n"
          ]
        }
      ],
      "source": [
        "def find_largest():\n",
        "    num1 = float(input(\"Enter first number: \"))\n",
        "    num2 = float(input(\"Enter second number: \"))\n",
        "    num3 = float(input(\"Enter third number: \"))\n",
        "\n",
        "    if (num1 >= num2) and (num1 >= num3):\n",
        "        largest = num1\n",
        "    elif (num2 >= num1) and (num2 >= num3):\n",
        "        largest = num2\n",
        "    else:\n",
        "        largest = num3\n",
        "\n",
        "    print(\"The largest number is\", largest)\n",
        "\n",
        "find_largest()\n"
      ]
    },
    {
      "cell_type": "code",
      "source": [
        "def is_leap_year(year):\n",
        "    if year % 4 == 0:\n",
        "        if year % 100 != 0 or year % 400 == 0:\n",
        "            return True\n",
        "    return False\n",
        "\n",
        "year = 2024\n",
        "if is_leap_year(year):\n",
        "    print(f\"{year} is a leap year.\")\n",
        "else:\n",
        "    print(f\"{year} is not a leap year.\")\n"
      ],
      "metadata": {
        "colab": {
          "base_uri": "https://localhost:8080/"
        },
        "id": "ttnwKW4WdQZn",
        "outputId": "a3b6dc22-b02d-435c-aa5c-ad8d02023b04"
      },
      "execution_count": 35,
      "outputs": [
        {
          "output_type": "stream",
          "name": "stdout",
          "text": [
            "2024 is a leap year.\n"
          ]
        }
      ]
    },
    {
      "cell_type": "code",
      "source": [
        "for i in range(1,6):\n",
        "  print(str(i) * i)"
      ],
      "metadata": {
        "colab": {
          "base_uri": "https://localhost:8080/"
        },
        "id": "h4dDRvAme-dj",
        "outputId": "8b8561ba-7e51-4385-9813-2b517f88791c"
      },
      "execution_count": 36,
      "outputs": [
        {
          "output_type": "stream",
          "name": "stdout",
          "text": [
            "1\n",
            "22\n",
            "333\n",
            "4444\n",
            "55555\n"
          ]
        }
      ]
    },
    {
      "cell_type": "code",
      "source": [
        "rows = 5\n",
        "for  j in range(1, rows+1):\n",
        "  print(\"*\" * j)"
      ],
      "metadata": {
        "colab": {
          "base_uri": "https://localhost:8080/"
        },
        "id": "mni2Ooe3zubr",
        "outputId": "c99c4133-214f-4785-8b1a-8127a3aa2ac9"
      },
      "execution_count": 37,
      "outputs": [
        {
          "output_type": "stream",
          "name": "stdout",
          "text": [
            "*\n",
            "**\n",
            "***\n",
            "****\n",
            "*****\n"
          ]
        }
      ]
    },
    {
      "cell_type": "code",
      "source": [
        "rows = 5\n",
        "for i in range(1,rows+1):\n",
        "  print(\" \" * (rows - i), end = \" \")\n",
        "  print(\"*\" * i)"
      ],
      "metadata": {
        "colab": {
          "base_uri": "https://localhost:8080/"
        },
        "id": "NyvVtiKr0kYC",
        "outputId": "08d6fb12-192d-422b-ebcb-5dab38306e81"
      },
      "execution_count": 38,
      "outputs": [
        {
          "output_type": "stream",
          "name": "stdout",
          "text": [
            "     *\n",
            "    **\n",
            "   ***\n",
            "  ****\n",
            " *****\n"
          ]
        }
      ]
    },
    {
      "cell_type": "code",
      "source": [
        "for i in range(1,101):\n",
        "  if i % 3 ==0 and i % 5 ==0:\n",
        "    print(\"FizzBuzz\")\n",
        "  elif i % 3 ==0:\n",
        "    print(\"Fizz\")\n",
        "  elif i % 5 ==0:\n",
        "    print(\"Buzz\")\n",
        "  else:\n",
        "    print(i)"
      ],
      "metadata": {
        "colab": {
          "base_uri": "https://localhost:8080/"
        },
        "id": "NQ5TlVfx2h7k",
        "outputId": "9c5d0c56-0c33-44a5-f1c3-031c9511793a"
      },
      "execution_count": 39,
      "outputs": [
        {
          "output_type": "stream",
          "name": "stdout",
          "text": [
            "1\n",
            "2\n",
            "Fizz\n",
            "4\n",
            "Buzz\n",
            "Fizz\n",
            "7\n",
            "8\n",
            "Fizz\n",
            "Buzz\n",
            "11\n",
            "Fizz\n",
            "13\n",
            "14\n",
            "FizzBuzz\n",
            "16\n",
            "17\n",
            "Fizz\n",
            "19\n",
            "Buzz\n",
            "Fizz\n",
            "22\n",
            "23\n",
            "Fizz\n",
            "Buzz\n",
            "26\n",
            "Fizz\n",
            "28\n",
            "29\n",
            "FizzBuzz\n",
            "31\n",
            "32\n",
            "Fizz\n",
            "34\n",
            "Buzz\n",
            "Fizz\n",
            "37\n",
            "38\n",
            "Fizz\n",
            "Buzz\n",
            "41\n",
            "Fizz\n",
            "43\n",
            "44\n",
            "FizzBuzz\n",
            "46\n",
            "47\n",
            "Fizz\n",
            "49\n",
            "Buzz\n",
            "Fizz\n",
            "52\n",
            "53\n",
            "Fizz\n",
            "Buzz\n",
            "56\n",
            "Fizz\n",
            "58\n",
            "59\n",
            "FizzBuzz\n",
            "61\n",
            "62\n",
            "Fizz\n",
            "64\n",
            "Buzz\n",
            "Fizz\n",
            "67\n",
            "68\n",
            "Fizz\n",
            "Buzz\n",
            "71\n",
            "Fizz\n",
            "73\n",
            "74\n",
            "FizzBuzz\n",
            "76\n",
            "77\n",
            "Fizz\n",
            "79\n",
            "Buzz\n",
            "Fizz\n",
            "82\n",
            "83\n",
            "Fizz\n",
            "Buzz\n",
            "86\n",
            "Fizz\n",
            "88\n",
            "89\n",
            "FizzBuzz\n",
            "91\n",
            "92\n",
            "Fizz\n",
            "94\n",
            "Buzz\n",
            "Fizz\n",
            "97\n",
            "98\n",
            "Fizz\n",
            "Buzz\n"
          ]
        }
      ]
    },
    {
      "cell_type": "code",
      "source": [
        "def is_prime(num):\n",
        "  if num <= 1:\n",
        "    return False\n",
        "\n",
        "  if num == 2:\n",
        "    return True\n",
        "\n",
        "  if num % 2 ==0:\n",
        "    return False\n",
        "\n",
        "\n",
        "  for i in range(3,int(num**0.5)+1,2):\n",
        "    if num % i ==0:\n",
        "      return False\n",
        "  return True\n",
        "\n",
        "def sum_of_prime(n):\n",
        "  return sum(num for num in range(2,n+1) if is_prime(num))\n",
        "\n",
        "n = 10\n",
        "\n",
        "print(f\"The sum of all prime numbers upto {n} is {sum_of_prime(n)}\")\n",
        "\n"
      ],
      "metadata": {
        "id": "nSOluzf-7gBH",
        "colab": {
          "base_uri": "https://localhost:8080/"
        },
        "outputId": "9cf835e0-5f05-4581-ac1e-34b8c1655abc"
      },
      "execution_count": 40,
      "outputs": [
        {
          "output_type": "stream",
          "name": "stdout",
          "text": [
            "The sum of all prime numbers upto 10 is 17\n"
          ]
        }
      ]
    },
    {
      "cell_type": "code",
      "source": [
        "def fibonacci(n):\n",
        "  a , b = 0 , 1\n",
        "  for _ in range(n):\n",
        "    print(a,end = \" \")\n",
        "    a, b = b ,  a + b\n",
        "\n",
        "n = 10\n",
        "print(f\"The first {n} terms of the Fibonacci sequence are:\")\n",
        "fibonacci(n)"
      ],
      "metadata": {
        "colab": {
          "base_uri": "https://localhost:8080/"
        },
        "id": "MnZHZJHgvyzW",
        "outputId": "4d3bef73-6f34-4ebc-ffba-81bae9beb868"
      },
      "execution_count": 41,
      "outputs": [
        {
          "output_type": "stream",
          "name": "stdout",
          "text": [
            "The first 10 terms of the Fibonacci sequence are:\n",
            "0 1 1 2 3 5 8 13 21 34 "
          ]
        }
      ]
    },
    {
      "cell_type": "code",
      "source": [
        "def print_tree(height):\n",
        "  for i in range(height):\n",
        "    print(\" \" * (height - i - 1) + \"*\" * (2 * i + 1))\n",
        "\n",
        "print_tree(5)"
      ],
      "metadata": {
        "id": "uWIpYGOVwMKA",
        "colab": {
          "base_uri": "https://localhost:8080/"
        },
        "outputId": "fca4a512-1511-4337-df74-d4de13098389"
      },
      "execution_count": 42,
      "outputs": [
        {
          "output_type": "stream",
          "name": "stdout",
          "text": [
            "    *\n",
            "   ***\n",
            "  *****\n",
            " *******\n",
            "*********\n"
          ]
        }
      ]
    },
    {
      "cell_type": "code",
      "source": [
        "def print_alpha_tree(height):\n",
        "    alphabet = 'ABCDEFGHIJKLMNOPQRSTUVWXYZ'\n",
        "    for i in range(height):\n",
        "        print(' ' * (height - i - 1) + alphabet[i % len(alphabet)] * (2 * i + 1))\n",
        "\n",
        "print_alpha_tree(5)\n"
      ],
      "metadata": {
        "colab": {
          "base_uri": "https://localhost:8080/"
        },
        "id": "WYr2efFg_6Q9",
        "outputId": "27017ba4-de32-4621-82a5-87ec2a555e98"
      },
      "execution_count": 43,
      "outputs": [
        {
          "output_type": "stream",
          "name": "stdout",
          "text": [
            "    A\n",
            "   BBB\n",
            "  CCCCC\n",
            " DDDDDDD\n",
            "EEEEEEEEE\n"
          ]
        }
      ]
    },
    {
      "cell_type": "code",
      "source": [],
      "metadata": {
        "id": "7CaY0QypBYgH"
      },
      "execution_count": 43,
      "outputs": []
    },
    {
      "cell_type": "code",
      "source": [],
      "metadata": {
        "id": "dm_GVMZGG-4-"
      },
      "execution_count": null,
      "outputs": []
    }
  ]
}